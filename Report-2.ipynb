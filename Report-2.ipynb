{
 "cells": [
  {
   "cell_type": "markdown",
   "metadata": {},
   "source": [
    "# **LOCATION SELECTION FOR A RESTAURANT IN DALLAS, TEXAS.** \n",
    "###                BY \n",
    "#### **EBERE CHINELO OYEKWE**\n",
    "\n"
   ]
  },
  {
   "cell_type": "markdown",
   "metadata": {},
   "source": [
    "## INTRODUCTION \n",
    "\n",
    "##### **1.1 What is Location Selection?** \n",
    "\n",
    "   Location selection is a huge factor in the success of all business. It is the process of selecting the most appropriate and profitable location that benefits a business. Location selection analysis is mirrored  by the Geographical Research called \"Site Selection.\" Site Selection involves measuring the needs of a new project against the merits of potential locations.\n",
    "\n",
    "   The process of location selection implements the strategic ideas of a business by considering all the factors that needs to be evaluated. The process of location selection makes the decision for an appropriate area, evaluates the area, considers financial impacts, and also analyzes the decision based on the problems. Location Selection is beneficial for new businesses of all sizes and old businesses looking to open a new business location. In this project, we will be using Machine Learning Algorithms on historical Data to find a suitable location for a new restaurant in Dallas, Texas. \n",
    "   \n",
    "   \n",
    "##### **1.2 Background/Business Problems**. \n",
    "\n",
    "   Location Selection can be significant in all sorts of business or industries, including retail, restaurants, services, wholesale and manufacturing efforts. Studies shows that inadequate location is one of the primary causes of business failure in America. On the contrary, a good business can be enormously beneficial to small firm. A business location sets the tone for a business, it contributes to overall public perception of a business. \n",
    "   \n",
    "   Location errors are often more expensive to correct and can deteriorate customer interest. Businesses rely on Location Selection for accessibility to the right/target audience. A business Location influences marketing, competition, cost of operation, taxes and governmental regulations. In summary, Location Selection will help a restaurant owner in dallas,Texas to reduce analytical errors and increase profit.  \n",
    "    "
   ]
  },
  {
   "cell_type": "markdown",
   "metadata": {},
   "source": [
    "## DATA ANALYSIS "
   ]
  },
  {
   "cell_type": "markdown",
   "metadata": {},
   "source": [
    "##### **2.1 Data Source** \n",
    "\n",
    "The data used in this project was gotten from [Dallas Open Data.](www.dallasopendata.com) The website is an invaluable resource for anyone to easily access data published by the City. Instead of going through a formal process to request information, you are able to instantly review, compare, visualize, analyze and share your data discoveries. The data choice was the Restaurant and Food Establishment data set, this data consists of the Location and Name of the Restaurants or Food Establishments in Dallas,Texas. This components are valuable for this analysis. The Location data includes, Zip Codes, Lat, Long and Street Addresses. \n",
    "\n"
   ]
  },
  {
   "cell_type": "markdown",
   "metadata": {},
   "source": [
    "<img src=\"DF1.png\">"
   ]
  },
  {
   "cell_type": "markdown",
   "metadata": {},
   "source": [
    "##### **2.2 Data Cleaning** \n",
    "\n",
    "The data set comprises of 114 Columns and 40.1K (40,213 x 114) rows of Dallas Restaurant Inspection Data. The first step of the Cleaning process was to drop Columns that will not be necessary for the project and also drop duplicate rows of the dataset. \n",
    "The next step was generating a column for the Latitude and Longitude values of each Restaurant Location. The Location values (Lat, Long) are very important in this analysis, they will be used for both visualization and Mathematical analysis. \n",
    "\n",
    "   The Dallas Restaurant inspection data is defective as some of the restaurants were missing Location information. The rows with NaN values were dropped from the data frame as this will causes errors in the Machine Learning Algorithms used in this analysis. The final part of cleaning the data was ensuring that the format of the Location data in the Dataframe was accurate. The Zip Code in the Restaurant data should only be a 5 digit number, everything more than 5 digit needs to be corrected. After the cleaning process the data frame was reduced to a new size of (12,783 x 5) \n"
   ]
  },
  {
   "cell_type": "markdown",
   "metadata": {},
   "source": [
    "<img src=\"Map.png\">"
   ]
  },
  {
   "cell_type": "markdown",
   "metadata": {},
   "source": [
    "## METHODOLOGY \n",
    "\n",
    "Here are some of the Factors that we will be considering in this project for determining the most suitable location for a restaurant in Dallas, Texas. \n",
    "\n",
    "1. Competition \n",
    "2. Foot Traffic/Accessibility "
   ]
  },
  {
   "cell_type": "markdown",
   "metadata": {},
   "source": [
    "##### **3.1 Competition & Clustering**\n",
    "\n",
    "   Clustering is a Machine Algorithm technique that categorizes similar points together. It is the task of dividing the population or data points into a number of groups such that data points in the same groups are more similar to other data points in the same group and dissimilar to the data points in other groups. Contrary to logical believes that business location with little or lesser business competition will generate more income, Restaurant Chain prefer to stay closer to each other.\n",
    "\n",
    "   For this project the DBSCAN is implemented, it is a Clustering Algorithm that creates clusters based on the density of the data. DBSCAN is one of the most appropriate clustering technique to cluster location data. After implementing clustering, we analyze the clusters for the most suitable location in the clusters. From the visualization below, we choose \"CLUSTER 0\" because there seem to be a lot more competition and this is very ideal for Restaurants. \n",
    "\n",
    "   Closeness to  competitors enables  businesses to have a better idea of the strategies implemented by their opposition. This enables Restaurants to reckon the feasibility of the strategy to identify if it can be mirrored to be used for their own, with some minor improvements."
   ]
  },
  {
   "cell_type": "markdown",
   "metadata": {},
   "source": [
    "<img src=\"CLS1.png\">"
   ]
  },
  {
   "cell_type": "markdown",
   "metadata": {},
   "source": [
    "##### **3.2 Foot Traffic** \n",
    "\n",
    "From the Visualization, we can tell that the first \"CLUSTER0\" will be more profitable for a new restaurant because of the number of Restaurants in the Cluster. Using Mathematical analysis, We create a new dataframe of 7 Zip Codes with the most amount of Restaurants.This filters through the data frame and returns the most frequent or common restaurants. The result is a  new Data frame with the 7 Zip codes and the 10 Most common Restaurants in them. Using Placer.ai, we analyze the data for the Zip Code  with the highest foot traffic. Foot traffic is essential to generate income and create customer attraction to the new Restaurant. [Placer.ai](www.placer.ai.com) is the world's most advanced foot traffic analytics platform allowing anyone in the retail industry to instantly generate insights into any physical place for a deeper understanding of audiences and competition. \n",
    "\n",
    "##### **Accessibility**\n",
    "   The probability for customers to change their buying decisions are higher when there are several businesses gathered in a particular area. In this project we will be choosing the location data with the most foot traffic because that will be great for a good restaurant business. \n",
    "\n",
    "\n"
   ]
  },
  {
   "cell_type": "markdown",
   "metadata": {},
   "source": [
    "<img src=\"TA7.png\">"
   ]
  },
  {
   "cell_type": "markdown",
   "metadata": {},
   "source": [
    "## RESULTS \n",
    " \n",
    "The Location Selection process included Clustering the Location data and using mathematical analysis to choose the most common restaurants in each Zip Code.  The Main purpose of the mathematical analysis was to filter through the data in CLUSTER0 which had an original size of. Reducing the data size gave a clearer insight on what specific locations are most profitable to a new restaurant business in dallas, Texas. Placer.ai was used to choose the most appropriate location for the New Restaurant in Dallas, Texas by analysis on the remainder of the data for the location with the most foot Traffic.  After analysis, the best location had a foot traffic result of 11.5k estimated number of customer and 15.4k estimated number of visits. \n",
    "\n",
    "\n",
    "\n",
    "<img src=\"MD4.png\">\n",
    "<img src=\"R.png\">"
   ]
  },
  {
   "cell_type": "markdown",
   "metadata": {},
   "source": [
    "## DISCUSSION \n",
    "The Location Selection  project was challenging, this is as a result of inaccessibility of raw data to analyze foot traffic of the Restaurant Locations. Most data driven technology websites like [placer.ai](www.placer.ai) and FourSquare requires funding to give its users access to more data. I highly recommend real access to the actual foot traffic data, instead of only relying on the analysis by the website. The negative side of relying on this website for analysis is that we can nit measure the accuracy or error of this project. \n"
   ]
  },
  {
   "cell_type": "markdown",
   "metadata": {},
   "source": [
    "## CONCLUSION\n",
    "\n",
    "Restaurant Location Selection is the process of selecting the most profitable location for the business, there are a number of factors to consider when selecting a new Location for a Business, these are mostly dependent on the the type of restaurant in question. In this project, we analyzed the restaurants in Dallas,Texas by using Machine Learning Algorithms and a location Technology website called. Placer.ai. The Location data used for this project was retrieved from dallasopendata.com. Data cleaning and Visualization were helpful processes in the execution of this project. Finally, we choose a location with healthy competition and impeccable foot traffic. \n",
    "\n",
    "**LOCATION (LAT:32.72043, LONG: -96.889729)**\n",
    " "
   ]
  },
  {
   "cell_type": "code",
   "execution_count": null,
   "metadata": {},
   "outputs": [],
   "source": []
  }
 ],
 "metadata": {
  "kernelspec": {
   "display_name": "Python",
   "language": "python",
   "name": "conda-env-python-py"
  },
  "language_info": {
   "codemirror_mode": {
    "name": "ipython",
    "version": 3
   },
   "file_extension": ".py",
   "mimetype": "text/x-python",
   "name": "python",
   "nbconvert_exporter": "python",
   "pygments_lexer": "ipython3",
   "version": "3.6.7"
  }
 },
 "nbformat": 4,
 "nbformat_minor": 4
}
